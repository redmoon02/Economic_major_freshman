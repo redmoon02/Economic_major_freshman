{
 "cells": [
  {
   "cell_type": "markdown",
   "metadata": {},
   "source": [
    "# 기초 통계의 컨셉들 \n",
    "키워드 - probability distribution (이산 , 연속) \n",
    "\n",
    "| Population | include all of the elements from a set of data           |\n",
    "| ---------- | -------------------------------------------------------- |\n",
    "| Sample     | consists of one or more observations from the population |\n",
    "\n",
    "\n",
    "**Parameter** Characteristic of a distribution describing a population, such as the\n",
    "mean or standard deviation of a normal distribution. Often notated using Greek\n",
    "letters.\n",
    "\n",
    "이때 우리는 statistic이라는 것을 정의하게 된다.\n",
    "A numerical value that represents a property of a random sample.\n",
    "\n",
    "이 의미의 예로는 the mean value of the sample data가 될 수도 있으며 deviation of the data from the sample mean인경우도 있다. \n",
    "\n",
    "우리는 population 전부를 동시에 볼수 없기 때문에 그중 일부인 sample을 사용하고 이중에서도 샘플이 random함을 가정하면서 시작한다. \n",
    "\n",
    "이때 우리는 이 sample들을 가지고 sampling distribution 과 Statistical inference를 얻어 낼 수 있다. \n",
    "\n",
    "\n",
    "> (Empirical) sampling distribution   \n",
    "> The probability distribution of a given statisticbased on a random sample.  \n",
    "> Statistical inference     \n",
    ">  Enables you to make an educated guess about a population\n",
    "> parameter based on a statistic computed from a representative sample from that\n",
    "> population.\n",
    "\n",
    "\n",
    "따라 아래와 같은 그림이 성립하다.\n"
   ]
  },
  {
   "cell_type": "markdown",
   "metadata": {},
   "source": [
    "\n",
    "그림 1 \n",
    "\n",
    "  \n",
    "\n",
    "\n",
    "Comparison of sample statistics and population parameters\n",
    "\n",
    "|      parameters              | Sample_statistic | Population_parameter |\n",
    "| ------------------ | ------------------- | ----------------------- |\n",
    "| Mean               | $\\bar{x}$           | $\\mu$                   |\n",
    "| Standard deviation | sd               | $\\sigma$                  |\n",
    "\n",
    "\n",
    "\n",
    "이제 위의 표를가지고 data type에 따라 (이진 , 연속) 에 따라 어떤 통계적의미인 distribution과 inference가 있을지 생각해보자. \n",
    "\n",
    "data의 종류는 그 특성에 따라 나뉘는데 1) Boolean, 2)Nominal, 3)Ordinal이 categorical한 데이터 타입의 대포적 3종류 이다.   \n",
    "또한 Numerical인 경우에는 대표적으로 잘 알려진 Numerical Continuous 와 Numerical Discrete로 나눌 수 있다. \n",
    "또한 데이터가 한개 두개 더 많은 변수들로 구성되어 있는 경우가 있다. univariate, bivariate, multivariate데이터이다. 이때 이 variable들이 위치하는 position이 전체 space에서 어디있는지로 볼수 있다. \n",
    "\n"
   ]
  },
  {
   "cell_type": "markdown",
   "metadata": {},
   "source": [
    "## probability distributions \n",
    "---\n",
    "1. Random Variables and variates \n",
    "\n",
    "random variable $X$ 는 어떤 랜덤한 event로부터 발생할 수 있는  변수이다. 이때 이 random variable이  가능한 집합중에 실질적으로 realization 되어 보인 outcome을 random variate로 한다. \n",
    "\n",
    "2. Probability Distribution \n",
    "\n",
    "수학적으로 distribution을 표현할 즉 이때의 randomness of data in population, sample에 대해서 표현하는 도구를 우리는 probability distribuions 라고 한다.   \n",
    "\n",
    "이산 인 경우에서는 Probability Mass Functions (PMF)  \n",
    "연속일 때는 Probability Density Functions(PDF)\n",
    "\n",
    "---\n",
    "\n",
    "### Discrete Distributions\n",
    "\n",
    "우리는 이때 주사위를 예로 들자면 1부터 6까지라고 가정한다면 이산형의 6가지의 수가 나올 것이다. \n",
    "\n",
    "$$ P_i = \\frac{1}{6} , i =1\\dotsc 6 $$\n",
    "\n",
    "여기서 $P_i$는  probability distribution이다. \n",
    "\n",
    "가장 작은 $P_i$ 의 probability는 0 이므로 전체이벤트에 대해서는 \n",
    "\n",
    "$$ \\sum_{i=1}^{6} P_i = 1.  $$\n",
    "\n",
    "이에 따라 우리가 알수 있는 것은 \n",
    "discrete distribution has {$P_i$} with following properties :   \n",
    "- $ 0 \\le  P_i \\le 1 \\forall i \\in \\mathbb{Z} $ (i.e. for all interger numbers)\n",
    "- $ \\Sigma_{i} Pi = 1 $\n",
    "\n",
    "\n",
    "--- \n",
    "### continuous Distributions\n",
    "\n",
    "이산형일 때와는 다르게 연속형은 integer 값을 가지고 picewise 한 continuous funtion인 $p(x)$ 에 대한 Probability Density Function(PDF) 이 존재한다. \n",
    "따라 PDF에서는 아래와 같은 properties가 셩립한다. \n",
    "\n",
    "- $ p(x) \\ge  0 , \\forall x \\in \\mathbb{R} $\n",
    "- The probability that a value between a and b occurs is \n",
    "$$ p(a < x < b  ) = \\int_{a}^{b} p(x)dx. $$  \n",
    "- $ \\int_{\\infty}^{\\infty}  p(x)dx = 1 $\n",
    "\n",
    "\n",
    "### 기대값 -Expected Value\n",
    "PDF 는 우리가 expected value를 구할 수있게 해주는데 이때 우리의 $E[X]$를 우리는 first moment of continuous distribution of X: 라고 부른다. 따라 식은 아래와 같다. \n",
    "$$  E[X] = \\int_{-\\infty}^{\\infty} x \\cdot p(x)dx $$\n",
    "\n",
    "우리는 이때 expected value인 E를 $\\mu$ 로 indicated하고 싶으므로 이때 random variable이 population에 대해서 pre fixed 되었다고 볼  수 있다. 이는 이산형에서도 마찬가지로 연속형일때의 integeral이 Sumation으로 빠져서 \n",
    "$$ E[X] = \\Sigma_{i} x_i P_i $$\n",
    "\n"
   ]
  },
  {
   "cell_type": "code",
   "execution_count": null,
   "metadata": {},
   "outputs": [],
   "source": []
  },
  {
   "cell_type": "markdown",
   "metadata": {},
   "source": []
  },
  {
   "cell_type": "markdown",
   "metadata": {},
   "source": [
    "# Distribution of one variable "
   ]
  },
  {
   "cell_type": "code",
   "execution_count": 2,
   "metadata": {},
   "outputs": [
    {
     "data": {
      "text/plain": [
       "4.5"
      ]
     },
     "execution_count": 2,
     "metadata": {},
     "output_type": "execute_result"
    }
   ],
   "source": [
    "import numpy as np \n",
    "x = [0,1,2,3,4,5,6,7,8,9]\n",
    "np.mean(x)"
   ]
  },
  {
   "cell_type": "code",
   "execution_count": 3,
   "metadata": {},
   "outputs": [
    {
     "data": {
      "text/plain": [
       "4.5"
      ]
     },
     "execution_count": 3,
     "metadata": {},
     "output_type": "execute_result"
    }
   ],
   "source": [
    "np.median(x)"
   ]
  },
  {
   "cell_type": "code",
   "execution_count": 6,
   "metadata": {},
   "outputs": [
    {
     "data": {
      "text/plain": [
       "4"
      ]
     },
     "execution_count": 6,
     "metadata": {},
     "output_type": "execute_result"
    }
   ],
   "source": [
    "mat = [[1,2],\n",
    "       [3,4]]\n",
    "np.max(mat)"
   ]
  },
  {
   "cell_type": "code",
   "execution_count": 7,
   "metadata": {},
   "outputs": [
    {
     "data": {
      "text/plain": [
       "array([3, 4])"
      ]
     },
     "execution_count": 7,
     "metadata": {},
     "output_type": "execute_result"
    }
   ],
   "source": [
    "np.max(mat, axis=0)"
   ]
  },
  {
   "cell_type": "code",
   "execution_count": 8,
   "metadata": {},
   "outputs": [
    {
     "data": {
      "text/plain": [
       "array([2, 4])"
      ]
     },
     "execution_count": 8,
     "metadata": {},
     "output_type": "execute_result"
    }
   ],
   "source": [
    "np.max(mat, axis=1)"
   ]
  },
  {
   "cell_type": "code",
   "execution_count": 10,
   "metadata": {},
   "outputs": [
    {
     "name": "stderr",
     "output_type": "stream",
     "text": [
      "/var/folders/zh/kgvwtl7d4ljfcpzfq7dtky6r0000gn/T/ipykernel_80733/3931559943.py:3: FutureWarning: Unlike other reduction functions (e.g. `skew`, `kurtosis`), the default behavior of `mode` typically preserves the axis it acts along. In SciPy 1.11.0, this behavior will change: the default value of `keepdims` will become False, the `axis` over which the statistic is taken will be eliminated, and the value None will no longer be accepted. Set `keepdims` to True or False to avoid this warning.\n",
      "  stats.mode(data)\n"
     ]
    },
    {
     "data": {
      "text/plain": [
       "ModeResult(mode=array([7]), count=array([2]))"
      ]
     },
     "execution_count": 10,
     "metadata": {},
     "output_type": "execute_result"
    }
   ],
   "source": [
    "from scipy import stats \n",
    "data = [1,3,7,7,9]\n",
    "stats.mode(data)"
   ]
  },
  {
   "cell_type": "code",
   "execution_count": null,
   "metadata": {},
   "outputs": [],
   "source": []
  },
  {
   "cell_type": "markdown",
   "metadata": {},
   "source": [
    "geometric mean "
   ]
  },
  {
   "cell_type": "code",
   "execution_count": 11,
   "metadata": {},
   "outputs": [
    {
     "data": {
      "text/plain": [
       "37.992689344834304"
      ]
     },
     "execution_count": 11,
     "metadata": {},
     "output_type": "execute_result"
    }
   ],
   "source": [
    "x = np.arange(1,101)\n",
    "stats.gmean(x)"
   ]
  },
  {
   "cell_type": "markdown",
   "metadata": {},
   "source": []
  },
  {
   "cell_type": "code",
   "execution_count": 12,
   "metadata": {},
   "outputs": [
    {
     "data": {
      "text/plain": [
       "99"
      ]
     },
     "execution_count": 12,
     "metadata": {},
     "output_type": "execute_result"
    }
   ],
   "source": [
    "# ptp is peak to peak  , range \n",
    "np.ptp(x)"
   ]
  },
  {
   "cell_type": "markdown",
   "metadata": {},
   "source": [
    "파이썬에서는 quartile를 구하는 방법은 stat패키지의 percentile point function PPF 를 사용한다. \n",
    "따라서 아래 처럼 normal distribution에서의 ppf를 각 100을 최대로 두고 구할 수 있다. \n",
    "- 50 percentile은 따라 median이다. \n",
    "- 또한 IQR inter quartile range에 있어 25, 75 사이의 간격이 중요하다 . "
   ]
  },
  {
   "cell_type": "code",
   "execution_count": 14,
   "metadata": {},
   "outputs": [
    {
     "data": {
      "text/plain": [
       "-0.6744897501960817"
      ]
     },
     "execution_count": 14,
     "metadata": {},
     "output_type": "execute_result"
    }
   ],
   "source": [
    "lower_quartile = stats.norm().ppf(25/100)\n",
    "lower_quartile"
   ]
  },
  {
   "cell_type": "markdown",
   "metadata": {},
   "source": [
    "분산과 표준편차.   \n",
    "numpy에서는 n-ddof 라고 하는 것을 통해서 ddof 를 설정할 수 있다. (ddof 는 delta degrees of freedom의 약자이다. )  \n",
    "- numpy 에서는 ddof 는 0이지만 pandas는 ddof 는 1이다. "
   ]
  },
  {
   "cell_type": "code",
   "execution_count": 15,
   "metadata": {},
   "outputs": [],
   "source": [
    "data = np.arange(7,14)"
   ]
  },
  {
   "cell_type": "code",
   "execution_count": 16,
   "metadata": {},
   "outputs": [
    {
     "data": {
      "text/plain": [
       "2.0"
      ]
     },
     "execution_count": 16,
     "metadata": {},
     "output_type": "execute_result"
    }
   ],
   "source": [
    "np.std(data, ddof=0) # population SD"
   ]
  },
  {
   "cell_type": "code",
   "execution_count": 19,
   "metadata": {},
   "outputs": [
    {
     "data": {
      "text/plain": [
       "2.160246899469287"
      ]
     },
     "execution_count": 19,
     "metadata": {},
     "output_type": "execute_result"
    }
   ],
   "source": [
    "# ddof is population and sample \n",
    "np.std(data, ddof=1) # sample SD typically used "
   ]
  },
  {
   "cell_type": "code",
   "execution_count": 23,
   "metadata": {},
   "outputs": [
    {
     "data": {
      "text/plain": [
       "array([2.1602469])"
      ]
     },
     "execution_count": 23,
     "metadata": {},
     "output_type": "execute_result"
    }
   ],
   "source": [
    "import pandas as pd\n",
    "df = pd.DataFrame(data)\n",
    "std = df.std()\n",
    "std.values #return pandas Series and the numpy array "
   ]
  },
  {
   "cell_type": "markdown",
   "metadata": {},
   "source": [
    "confidence intervals (Ci)  \n",
    "신뢰 구간 , confidence level 은 신뢰수준임 , 이떄 ci 는 아래와 같이 계산됨. \n",
    "\n",
    "$$ ci = mean \\pm std * N_{PPF} \\frac{\\alpha}{2} $$\n",
    "\n",
    "95퍼센트의 신뢰구간 에 있어 하위는 `stats.norm.ppf(0.025)` 와 `stats.norm.ppf(0.975)` 간격의 interval사이에서의 일이다. "
   ]
  },
  {
   "cell_type": "code",
   "execution_count": null,
   "metadata": {},
   "outputs": [],
   "source": []
  },
  {
   "cell_type": "markdown",
   "metadata": {},
   "source": [
    "## Distribution\n",
    "\n",
    "distribution에는 파라미터를 결정할 수 있는데 , 정규분포를 예로 들면 파이썬에서는 분포를 결정하고 이에 대한 파라미터를 넣어주면 된다. 따라서 정규분포에서는 `stats.norm`으로 그리고 파라미터는 `mu,sigma`를 결정하면된다. stat에는 정규분포인 `norm`와 ,`pdf`, `cdf`, `sf`, `interval`, `ppf`, `isf`, `rvs`, `mean` 등으로  구성되어있다. \n",
    "\n",
    "- pdf 는 probability density function \n",
    "\n",
    "- cdf 는 누적확률 분포 \n",
    "\n",
    "- SF survival Function 1-CDF 이다. \n",
    "\n",
    "- percentile point function the inverse of the cdf 이다. \n",
    "\n",
    "- ISF : inverse suvival fuction \n",
    "\n",
    "- RSV : random variate samples \n",
    "\n"
   ]
  },
  {
   "cell_type": "code",
   "execution_count": 27,
   "metadata": {},
   "outputs": [],
   "source": [
    "import numpy as np\n",
    "from scipy import stats\n",
    "\n",
    "my_dist = stats.norm(5,3) # create frozen distribution \n",
    "\n",
    "x = np.linspace(-5,15, 101)\n",
    "y = my_dist.pdf(x)"
   ]
  },
  {
   "cell_type": "code",
   "execution_count": 28,
   "metadata": {},
   "outputs": [
    {
     "data": {
      "text/plain": [
       "[<matplotlib.lines.Line2D at 0x16cac6dc0>]"
      ]
     },
     "execution_count": 28,
     "metadata": {},
     "output_type": "execute_result"
    },
    {
     "data": {
      "image/png": "[encoded data removed]",
      "text/plain": [
       "<Figure size 640x480 with 1 Axes>"
      ]
     },
     "metadata": {},
     "output_type": "display_data"
    }
   ],
   "source": [
    "import matplotlib.pyplot as plt \n",
    "plt.plot(x,y)"
   ]
  },
  {
   "cell_type": "code",
   "execution_count": 29,
   "metadata": {},
   "outputs": [
    {
     "data": {
      "text/plain": [
       "[<matplotlib.lines.Line2D at 0x16cb53e50>]"
      ]
     },
     "execution_count": 29,
     "metadata": {},
     "output_type": "execute_result"
    },
    {
     "data": {
      "image/png": "[encoded data removed]",
      "text/plain": [
       "<Figure size 640x480 with 1 Axes>"
      ]
     },
     "metadata": {},
     "output_type": "display_data"
    }
   ],
   "source": [
    "x = np.linspace(-5,15, 101)\n",
    "y = my_dist.cdf(x)\n",
    "plt.plot(x,y)"
   ]
  },
  {
   "cell_type": "markdown",
   "metadata": {},
   "source": []
  }
 ],
 "metadata": {
  "kernelspec": {
   "display_name": "Python 3",
   "language": "python",
   "name": "python3"
  },
  "language_info": {
   "codemirror_mode": {
    "name": "ipython",
    "version": 3
   },
   "file_extension": ".py",
   "mimetype": "text/x-python",
   "name": "python",
   "nbconvert_exporter": "python",
   "pygments_lexer": "ipython3",
   "version": "3.9.6"
  },
  "orig_nbformat": 4
 },
 "nbformat": 4,
 "nbformat_minor": 2
}
